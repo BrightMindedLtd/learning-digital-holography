{
 "cells": [
  {
   "cell_type": "markdown",
   "metadata": {},
   "source": [
    "Based on https://github.com/UNC-optics/Introduction-to-holography/blob/master/Demo_1_Wave_Propagation.m"
   ]
  },
  {
   "cell_type": "code",
   "execution_count": null,
   "metadata": {},
   "outputs": [
    {
     "ename": "",
     "evalue": "",
     "output_type": "error",
     "traceback": [
      "\u001b[1;31mRunning cells with 'Python 2.7.16 64-bit' requires ipykernel package.\n",
      "Run the following command to install 'ipykernel' into the Python environment. \n",
      "Command: '/System/Library/Frameworks/Python.framework/Versions/2.7/Resources/Python.app/Contents/MacOS/Python -m pip install ipykernel -U --force-reinstall'"
     ]
    }
   ],
   "source": [
    "import numpy as np\n",
    "from skimage.io import imread, imshow\n",
    "from skimage.data import human_mitosis\n",
    "from skimage.transform import resize\n",
    "from skimage.util import img_as_ubyte"
   ]
  },
  {
   "cell_type": "code",
   "execution_count": null,
   "metadata": {},
   "outputs": [],
   "source": [
    "wavelength = 1.0e-6 # meters (1.0 * 10^-6 = 0.0000010) AKA lambda\n",
    "pixel_size = 10.0e-6 # meters\n",
    "x_axis_size = 300\n",
    "y_axis_size = 300\n",
    "\n",
    "propagation_distances_meters = np.linspace(0, 0.010, 20) # 20 equally spaced numbers between 0.010 and 20 inclusive\n",
    "\n",
    "# Create millimeter coordinates for the x and y axes\n",
    "UX = np.arange(1, x_axis_size + 1) # 1..x_axis_size\n",
    "UX = np.dot(UX, pixel_size) # UX * pixel_size\n",
    "UX = np.dot(1000, UX - np.mean(UX)) # 1000 * (UX - mean(UX))\n",
    "\n",
    "UY = np.arange(1, x_axis_size + 1) # 1..x_axis_size\n",
    "UY = np.dot(UY, pixel_size) # UY * pixel_size\n",
    "UY = np.dot(1000, UY - np.mean(UY)) # 1000 * (UY - mean(UY))\n",
    "\n",
    "# https://stackoverflow.com/a/52127182/11488517\n",
    "url = \"https://upload.wikimedia.org/wikipedia/commons/5/53/Wikimedia-logo.png\"\n",
    "image = imread(url, as_gray=True)\n",
    "# image = human_mitosis()\n",
    "image = resize(image, (x_axis_size, y_axis_size))\n",
    "image = image / np.max(image) # normalize\n",
    "imshow(image)\n",
    "\n",
    "# Create a complex field by setting amplitude and phase\n",
    "amplitude = np.sqrt(image_array)\n",
    "\n",
    "# select one of the options below for phase\n",
    "phase = np.zeros((x_axis_size, y_axis_size))\n",
    "# phase = np.dot(2 * np.pi, np.random.random((x_axis_size, y_axis_size)))"
   ]
  }
 ],
 "metadata": {
  "interpreter": {
   "hash": "545e036c4b32438aced1f6b3c8d38ca151d9c36189e05839cb0aa568fda70ddd"
  },
  "kernelspec": {
   "display_name": "Python 2.7.16 64-bit",
   "language": "python",
   "name": "python3"
  },
  "language_info": {
   "name": "python",
   "version": "2.7.16"
  },
  "orig_nbformat": 4
 },
 "nbformat": 4,
 "nbformat_minor": 2
}
