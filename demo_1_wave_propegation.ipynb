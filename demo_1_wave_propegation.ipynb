{
 "cells": [
  {
   "cell_type": "markdown",
   "metadata": {},
   "source": [
    "Based on https://github.com/UNC-optics/Introduction-to-holography/blob/master/Demo_1_Wave_Propagation.m"
   ]
  },
  {
   "cell_type": "code",
   "execution_count": 28,
   "metadata": {},
   "outputs": [],
   "source": [
    "import numpy as np\n",
    "from skimage.io import imread, imshow\n",
    "# from skimage import data\n",
    "from skimage.transform import resize\n",
    "from skimage.util import img_as_ubyte\n",
    "import matplotlib.pyplot as plt"
   ]
  },
  {
   "cell_type": "code",
   "execution_count": 30,
   "metadata": {},
   "outputs": [
    {
     "ename": "TypeError",
     "evalue": "show_results() missing 1 required positional argument: 'z'",
     "output_type": "error",
     "traceback": [
      "\u001b[0;31m---------------------------------------------------------------------------\u001b[0m",
      "\u001b[0;31mTypeError\u001b[0m                                 Traceback (most recent call last)",
      "\u001b[0;32m<ipython-input-30-b51a7afff807>\u001b[0m in \u001b[0;36m<module>\u001b[0;34m\u001b[0m\n\u001b[1;32m     44\u001b[0m \u001b[0;31m# phase = np.dot(2 * np.pi, np.random.random((x_axis_size, y_axis_size)))\u001b[0m\u001b[0;34m\u001b[0m\u001b[0;34m\u001b[0m\u001b[0;34m\u001b[0m\u001b[0m\n\u001b[1;32m     45\u001b[0m \u001b[0;34m\u001b[0m\u001b[0m\n\u001b[0;32m---> 46\u001b[0;31m \u001b[0mshow_results\u001b[0m\u001b[0;34m(\u001b[0m\u001b[0mimage\u001b[0m\u001b[0;34m,\u001b[0m \u001b[0mamplitude\u001b[0m\u001b[0;34m,\u001b[0m \u001b[0mphase\u001b[0m\u001b[0;34m)\u001b[0m\u001b[0;34m\u001b[0m\u001b[0;34m\u001b[0m\u001b[0m\n\u001b[0m\u001b[1;32m     47\u001b[0m \u001b[0;34m\u001b[0m\u001b[0m\n\u001b[1;32m     48\u001b[0m \u001b[0mcomplex_field\u001b[0m \u001b[0;34m=\u001b[0m \u001b[0mamplitude\u001b[0m \u001b[0;34m*\u001b[0m \u001b[0mnp\u001b[0m\u001b[0;34m.\u001b[0m\u001b[0mexp\u001b[0m\u001b[0;34m(\u001b[0m\u001b[0;36m1j\u001b[0m \u001b[0;34m*\u001b[0m \u001b[0mphase\u001b[0m\u001b[0;34m)\u001b[0m \u001b[0;31m# j = sqrt(-1)\u001b[0m\u001b[0;34m\u001b[0m\u001b[0;34m\u001b[0m\u001b[0m\n",
      "\u001b[0;31mTypeError\u001b[0m: show_results() missing 1 required positional argument: 'z'"
     ]
    }
   ],
   "source": [
    "def get_image(x_axis_size, y_axis_size):\n",
    "    # https://stackoverflow.com/a/52127182/11488517\n",
    "    url = \"https://upload.wikimedia.org/wikipedia/commons/5/53/Wikimedia-logo.png\"\n",
    "    image = imread(url, as_gray=True)\n",
    "    # image = data.human_mitosis()\n",
    "    image = resize(image, (x_axis_size, y_axis_size))\n",
    "    image = image / np.max(image) # normalize\n",
    "    return image\n",
    "\n",
    "def show_results(intensity, amplitude, phase, z):\n",
    "    fig, axs = plt.subplots(1, 3, figsize=(9, 5), sharey=True, sharex=True)\n",
    "    axs[0].imshow(np.squeeze(intensity), cmap='gray')\n",
    "    axs[0].set_title('Intensity at z=' + str(z))\n",
    "    axs[1].imshow(np.squeeze(amplitude), cmap='gray')\n",
    "    axs[1].set_title('Amplitude at z=' + str(z))\n",
    "    axs[2].imshow(np.squeeze(phase), cmap='gray')\n",
    "    axs[2].set_title('Phase at z=' + str(z))\n",
    "\n",
    "\n",
    "wavelength = 1.0e-6 # meters (1.0 * 10^-6 = 0.0000010) AKA lambda\n",
    "pixel_size = 10.0e-6 # meters\n",
    "x_axis_size = 300\n",
    "y_axis_size = 300\n",
    "\n",
    "propagation_distances_meters = np.linspace(0, 0.010, 20) # 20 equally spaced numbers between 0.010 and 20 inclusive\n",
    "\n",
    "# Create millimeter coordinates for the x and y axes\n",
    "UX = np.arange(1, x_axis_size + 1) # 1..x_axis_size\n",
    "UX = np.dot(UX, pixel_size) # UX * pixel_size\n",
    "UX = np.dot(1000, UX - np.mean(UX)) # 1000 * (UX - mean(UX))\n",
    "\n",
    "UY = np.arange(1, x_axis_size + 1) # 1..y_axis_size\n",
    "UY = np.dot(UY, pixel_size) # UY * pixel_size\n",
    "UY = np.dot(1000, UY - np.mean(UY)) # 1000 * (UY - mean(UY))\n",
    "\n",
    "image = get_image(x_axis_size, y_axis_size)\n",
    "image = image / np.max(image) # normalize\n",
    "\n",
    "# Create a complex field by setting amplitude and phase\n",
    "amplitude = np.sqrt(image)\n",
    "\n",
    "# select one of the options below for phase\n",
    "phase = np.zeros((x_axis_size, y_axis_size))\n",
    "# phase = np.dot(2 * np.pi, np.random.random((x_axis_size, y_axis_size)))\n",
    "\n",
    "complex_field = amplitude * np.exp(1j * phase) # j = sqrt(-1)\n",
    "\n",
    "intensity_at_z0 = np.abs(complex_field)**2 # abs(complex_field)^2\n",
    "amplitude_at_z0 = np.abs(complex_field)\n",
    "phase_at_z0 = np.angle(complex_field)\n",
    "\n",
    "show_results(intensity_at_z0, amplitude_at_z0, phase_at_z0, 0)"
   ]
  },
  {
   "cell_type": "markdown",
   "metadata": {},
   "source": [
    "# Fresnel Diffraction\n",
    "\n",
    "Fresnel diffraction models how a planar light wave hitting an aperture of arbitrary shape diffuses over a screen placed at a distant $z$ from that aperture.\n",
    "It takes advantage of the Huygens Principle whereby an aperture can be modelled as a number of point sources each emitting a spherical wave. The intensity of the light hitting any point $(x, y, z)$ on the screen is the sum of the contributions from each of these point sources:\n",
    "\\begin{equation}\n",
    "A(x, y, z) = \\frac{e^{izk}}{iz\\lambda}\\int\\int_{-\\infty}^{\\infty}A(x^{\\prime}, y^{\\prime}, z) e^{\\frac{ik}{2z}[(x-x^{\\prime})^2 + (y - y^{\\prime})^2]}dx^{\\prime}dy^{\\prime}\n",
    "\\end{equation}\n",
    "where $(x^{\\prime}, y^{\\prime}, 0)$ is a point on the aperture and $k=\\frac{2\\pi}{\\lambda}$ with $\\lambda$ being the wave length.  \n",
    "The following implementation takes advantage of the observation that the above can be expressed in terms of a [convolution](https://en.wikipedia.org/wiki/Convolution) operation.  \n",
    "Let $G(x, y, z) = e^{\\frac{ik}{2z}(x^2 + y^2)}$, then the Fresnel diffraction may be rewritten as:\n",
    "\\begin{equation}\n",
    "A(x, y, z) = \\frac{e^{izk}}{iz\\lambda} (A*G)(x, y, z)\n",
    "\\end{equation}\n",
    "The convolution operation $*$ can be turned into a multiplication by applying the [convolution theorem](https://en.wikipedia.org/wiki/Convolution_theorem) and switching from the spatial domain to the frequency domain through the application of a *Fourier Transform* $\\mathcal{F}$ on both $A$ and $G$. Therefore the final expression becomes:\n",
    "\\begin{equation}\n",
    "A(x, y, z) = \\frac{e^{izk}}{iz\\lambda} \\mathcal{F}^{-1}(\\mathcal{F}(A)\\cdot\\mathcal{F}(G))\n",
    "\\end{equation}\n",
    "where $\\mathcal{F}^{-1}$ is the $inverse$ Fourier Transform required in order to get back to the spatial domain.  \n",
    "Note that after fully computing the inverse transform, the denominator $iz\\lambda$ cancels out leaving only the pure $phase$ term $e^{izk}$ which can be disregarded if all we care about is the field value (i.e. the amplitudes).\n"
   ]
  },
  {
   "cell_type": "code",
   "execution_count": 23,
   "metadata": {},
   "outputs": [],
   "source": [
    "def fresnelDiffraction( amplitudes, wavelength, z, psx, psy ):\n",
    "\n",
    "    M, N = amplitudes.shape\n",
    "\n",
    "    UY = np.arange( M )\n",
    "    UY = UY - np.mean( UY )\n",
    "\n",
    "    UY -= 1 if M%2 == 1 else .5\n",
    "\n",
    "    UX = np.arange( N )\n",
    "    UX = UX - np.mean( UX )\n",
    "\n",
    "    UX -= 1 if N%2 == 1 else .5\n",
    "\n",
    "    x, y = np.meshgrid( UX, UY )\n",
    "    \n",
    "    # in a discrete fourier transform setting\n",
    "    # the following are the fractional angles \n",
    "    # in the complex circle representing each frequency\n",
    "    kx = x / psx / N \n",
    "    ky = y / psy / M \n",
    "\n",
    "    H = np.exp( -1j * np.pi * wavelength * z * ( kx**2 + ky**2 ) )\n",
    "\n",
    "    H = np.fft.fftshift( H )\n",
    "\n",
    "    objFT = np.fft.fft2( amplitudes )\n",
    "\n",
    "    field = np.fft.ifft2( objFT * H )\n",
    "\n",
    "    return field"
   ]
  },
  {
   "cell_type": "code",
   "execution_count": 27,
   "metadata": {},
   "outputs": [
    {
     "name": "stdout",
     "output_type": "stream",
     "text": [
      "90000\n",
      "90000\n",
      "90000\n",
      "90000\n",
      "90000\n",
      "90000\n",
      "90000\n",
      "90000\n",
      "90000\n",
      "90000\n",
      "90000\n",
      "90000\n",
      "90000\n",
      "90000\n",
      "90000\n",
      "90000\n",
      "90000\n",
      "90000\n",
      "90000\n",
      "90000\n"
     ]
    }
   ],
   "source": [
    "for i in range(propagation_distances_meters.size):\n",
    "    # Propagate the field\n",
    "    propagation_distance_meters = propagation_distances_meters[i]\n",
    "    new_field = fresnelDiffraction(complex_field, wavelength, propagation_distance_meters, pixel_size, pixel_size)\n",
    "\n",
    "    intensity_at_z = np.abs(new_field)**2\n",
    "    amplitude_at_z = np.abs(new_field)\n",
    "    phase_at_z = np.angle(new_field)\n",
    "\n",
    "    show_results(intensity_at_z, amplitude_at_z, phase_at_z, propagation_distance_meters)"
   ]
  }
 ],
 "metadata": {
  "interpreter": {
   "hash": "545e036c4b32438aced1f6b3c8d38ca151d9c36189e05839cb0aa568fda70ddd"
  },
  "kernelspec": {
   "display_name": "Python 3 (ipykernel)",
   "language": "python",
   "name": "python3"
  },
  "language_info": {
   "codemirror_mode": {
    "name": "ipython",
    "version": 3
   },
   "file_extension": ".py",
   "mimetype": "text/x-python",
   "name": "python",
   "nbconvert_exporter": "python",
   "pygments_lexer": "ipython3",
   "version": "3.6.15"
  }
 },
 "nbformat": 4,
 "nbformat_minor": 2
}
