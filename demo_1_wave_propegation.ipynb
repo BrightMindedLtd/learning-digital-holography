{
 "cells": [
  {
   "cell_type": "markdown",
   "metadata": {},
   "source": [
    "Based on https://github.com/UNC-optics/Introduction-to-holography/blob/master/Demo_1_Wave_Propagation.m"
   ]
  },
  {
   "cell_type": "code",
   "execution_count": null,
   "metadata": {},
   "outputs": [],
   "source": [
    "import numpy as np\n",
    "np.__version__"
   ]
  },
  {
   "cell_type": "code",
   "execution_count": null,
   "metadata": {},
   "outputs": [],
   "source": [
    "wavelength = 1.0e-6 # meters (1.0 * 10^-6 = 0.0000010) AKA lambda\n",
    "pixel_size = 10.0e-6 # meters\n",
    "x_axis_size = 300\n",
    "y_axis_size = 300\n",
    "\n",
    "propagation_distances_meters = np.linspace(0, 0.010, 20) # 20 equally spaced numbers between 0.010 and 20 inclusive\n",
    "\n",
    "UX = np.arange(1, x_axis_size + 1) # 1..x_axis_size\n",
    "UX = np.dot(UX, pixel_size) # UX * pixel_size\n",
    "UX = np.dot(1000, UX - np.mean(UX)) # 1000 * (UX - mean(UX))\n",
    "\n",
    "UY = np.arange(1, x_axis_size + 1) # 1..x_axis_size\n",
    "UY = np.dot(UY, pixel_size) # UY * pixel_size\n",
    "UY = np.dot(1000, UY - np.mean(UY)) # 1000 * (UY - mean(UY))"
   ]
  }
 ],
 "metadata": {
  "language_info": {
   "name": "python"
  },
  "orig_nbformat": 4
 },
 "nbformat": 4,
 "nbformat_minor": 2
}
